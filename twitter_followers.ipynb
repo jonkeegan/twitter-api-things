{
 "cells": [
  {
   "cell_type": "markdown",
   "id": "26365ade-cca3-470e-9c47-33466d3b0e3f",
   "metadata": {},
   "source": [
    "# Collect all of the followers for a Twitter account, save them all in a CSV"
   ]
  },
  {
   "cell_type": "markdown",
   "id": "c7b88432-55aa-45de-a11e-c1e31aaeecbd",
   "metadata": {},
   "source": [
    "If you want to grab all of the information about your followers (or any other Twitter user), register a new app to developer.twitter.com and you will be able to save them all to a handy CSV, including handle, description and other user metadata. Docs for Tweepy here: https://docs.tweepy.org/en/stable/install.html"
   ]
  },
  {
   "cell_type": "code",
   "execution_count": 1,
   "id": "1cab1074-dab5-46ed-8ffa-b8270040360c",
   "metadata": {},
   "outputs": [],
   "source": [
    "import tweepy\n",
    "import pandas as pd"
   ]
  },
  {
   "cell_type": "code",
   "execution_count": 2,
   "id": "835bc57b-5b4d-4e0d-a87c-08b907a0b76d",
   "metadata": {},
   "outputs": [],
   "source": [
    "# You need to make a new Twitter App here: https://developer.twitter.com/en/portal/dashboard\n",
    "\n",
    "# Authenticate the Twitter account...Fill in these four keys from the app settings:\n",
    "# auth = tweepy.OAuth1UserHandler( \"API / Consumer Key here\", \"API / Consumer Secret here\",\"Access Token here\", \"Access Token Secret here\")\n",
    "\n",
    "auth = tweepy.OAuth1UserHandler(\n",
    "   'XXXX_API_CONSUMER_KEY_XXXX', \n",
    "    'XXXX_API_CONSUMER_SECRET_XXXX', \n",
    "    'XXXX_ACCESS_TOKEN_XXXX', \n",
    "    'XXXX_ACCESS_TOKEN__SECRET_XXXX'\n",
    ")\n",
    "\n",
    "api = tweepy.API(auth, wait_on_rate_limit=True)\n"
   ]
  },
  {
   "cell_type": "code",
   "execution_count": null,
   "id": "607f7af6-66bc-4d08-8269-36f8c94c002e",
   "metadata": {},
   "outputs": [],
   "source": [
    "# Make an array for the follower data...\n",
    "followers = []\n",
    "\n",
    "# Loop through the API response, append to the follower array...\n",
    "# Just insert the screen_name (using @jack as an example here) you want to get the followers for.\n",
    "for user in tweepy.Cursor(api.get_followers, screen_name=\"jack\", include_user_entities=False, count=200).items():\n",
    "    print('follower: ' + user.screen_name)\n",
    "    followers.append(user)    "
   ]
  },
  {
   "cell_type": "code",
   "execution_count": null,
   "id": "b4b1903f-f0d8-4dfd-bc0e-7d036765e315",
   "metadata": {},
   "outputs": [],
   "source": [
    "# Loop through follower names...\n",
    "for follower in followers:\n",
    "    print(follower.screen_name)"
   ]
  },
  {
   "cell_type": "code",
   "execution_count": null,
   "id": "fd3d594f-d645-4f4c-aa85-f8c82559fa7f",
   "metadata": {},
   "outputs": [],
   "source": [
    "# Normalize the data...\n",
    "json_data = [f._json for f in followers]\n",
    "followers_df = pd.json_normalize(json_data)"
   ]
  },
  {
   "cell_type": "code",
   "execution_count": null,
   "id": "0f07dedf-8fa2-4fee-9e83-7276bfc57632",
   "metadata": {},
   "outputs": [],
   "source": [
    "# Let's preview the dataframe...\n",
    "followers_df"
   ]
  },
  {
   "cell_type": "code",
   "execution_count": null,
   "id": "f1ed9c50-dc0c-4504-9f6c-b81782b99d32",
   "metadata": {},
   "outputs": [],
   "source": [
    "# Now let's export the dataframe as a CSV\n",
    "followers_df.to_csv('followers_all.csv', index=False)"
   ]
  }
 ],
 "metadata": {
  "kernelspec": {
   "display_name": "Python 3 (ipykernel)",
   "language": "python",
   "name": "python3"
  },
  "language_info": {
   "codemirror_mode": {
    "name": "ipython",
    "version": 3
   },
   "file_extension": ".py",
   "mimetype": "text/x-python",
   "name": "python",
   "nbconvert_exporter": "python",
   "pygments_lexer": "ipython3",
   "version": "3.8.3"
  }
 },
 "nbformat": 4,
 "nbformat_minor": 5
}
